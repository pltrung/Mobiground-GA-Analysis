{
 "cells": [
  {
   "cell_type": "markdown",
   "metadata": {},
   "source": [
    "## Capstone"
   ]
  },
  {
   "cell_type": "code",
   "execution_count": 14,
   "metadata": {},
   "outputs": [],
   "source": [
    "import pandas as pd\n",
    "import numpy as np\n",
    "\n",
    "df = pd.read_csv('Campaign Performance.csv')"
   ]
  },
  {
   "cell_type": "markdown",
   "metadata": {},
   "source": [
    "### Data Cleaning and Manipulation\n"
   ]
  },
  {
   "cell_type": "code",
   "execution_count": 15,
   "metadata": {},
   "outputs": [],
   "source": [
    "df.drop(columns = ['Conversions','Value conv./click','Value conv./coste','Cost/conv.', 'Status','Bid strategy'], inplace = True)"
   ]
  },
  {
   "cell_type": "code",
   "execution_count": 3,
   "metadata": {},
   "outputs": [],
   "source": [
    "df = pd.get_dummies(df, columns = ['Status', 'Bid strategy'])"
   ]
  },
  {
   "cell_type": "code",
   "execution_count": 134,
   "metadata": {},
   "outputs": [
    {
     "data": {
      "text/plain": [
       "Index(['Hour of day', 'Budget', 'CPC avg.', 'Impressions', 'Clicks', 'CTR',\n",
       "       'Cost', 'Conversion rate', 'Percentage viewable',\n",
       "       'Non viewable impressions distrib.', 'Avg cost', 'Campaign id',\n",
       "       'Impr. viewable', 'CTR viewable', 'Impr. non viewable',\n",
       "       'Non measurable impr.', 'CPM avg viewable'],\n",
       "      dtype='object')"
      ]
     },
     "execution_count": 134,
     "metadata": {},
     "output_type": "execute_result"
    }
   ],
   "source": [
    "df.columns"
   ]
  },
  {
   "cell_type": "code",
   "execution_count": 18,
   "metadata": {},
   "outputs": [],
   "source": [
    "# Labels are the values we want to predict\n",
    "labels = np.array(df['Conversion rate'])\n",
    "# Remove the labels from the features\n",
    "# axis 1 refers to the columns\n",
    "features= df.drop('Conversion rate', axis = 1)\n",
    "# Saving feature names for later use\n",
    "feature_list = list(features.columns)\n",
    "# Convert to numpy array\n",
    "features = np.array(features)"
   ]
  },
  {
   "cell_type": "code",
   "execution_count": 19,
   "metadata": {},
   "outputs": [],
   "source": [
    "# Using Skicit-learn to split data into training and testing sets\n",
    "from sklearn.model_selection import train_test_split\n",
    "# Split the data into training and testing sets\n",
    "train_features, test_features, train_labels, test_labels = train_test_split(features, labels, test_size = 0.25, random_state = 42)"
   ]
  },
  {
   "cell_type": "code",
   "execution_count": 20,
   "metadata": {},
   "outputs": [],
   "source": [
    "from sklearn.ensemble import RandomForestRegressor"
   ]
  },
  {
   "cell_type": "code",
   "execution_count": 21,
   "metadata": {},
   "outputs": [
    {
     "name": "stdout",
     "output_type": "stream",
     "text": [
      "Training Features Shape: (621, 16)\n",
      "Training Labels Shape: (621,)\n",
      "Testing Features Shape: (208, 16)\n",
      "Testing Labels Shape: (208,)\n"
     ]
    }
   ],
   "source": [
    "print('Training Features Shape:', train_features.shape)\n",
    "print('Training Labels Shape:', train_labels.shape)\n",
    "print('Testing Features Shape:', test_features.shape)\n",
    "print('Testing Labels Shape:', test_labels.shape)"
   ]
  },
  {
   "cell_type": "markdown",
   "metadata": {},
   "source": [
    "### Initial Model 1: RF with 1000 Decision Trees"
   ]
  },
  {
   "cell_type": "code",
   "execution_count": 123,
   "metadata": {},
   "outputs": [
    {
     "name": "stdout",
     "output_type": "stream",
     "text": [
      "     Labels  base_model\n",
      "0      2.17     2.07612\n",
      "1      0.85     1.83206\n",
      "2      3.04     3.10956\n",
      "3      0.75     1.75340\n",
      "4      1.82     3.50574\n",
      "5      0.00     1.76464\n",
      "6      1.62     2.04285\n",
      "7      4.27     3.53743\n",
      "8      2.48     2.41939\n",
      "9      1.36     1.37222\n",
      "10     2.07     2.09623\n",
      "11     1.90     2.19088\n",
      "12     6.04     6.15535\n",
      "13     1.67     1.87635\n",
      "14     4.37     4.17348\n",
      "15     2.00     1.90596\n",
      "16     2.26     2.14170\n",
      "17     2.39     2.43178\n",
      "18     4.09     3.58908\n",
      "19     6.49     6.25600\n",
      "20     3.37     4.11932\n",
      "21     1.73     2.88761\n",
      "22     0.00     0.17421\n",
      "23     0.00     3.26099\n",
      "24     1.44     1.97717\n",
      "25     2.11     2.08474\n",
      "26     0.00     1.24953\n",
      "27     1.63     1.77717\n",
      "28     0.00     2.90814\n",
      "29     1.49     1.63491\n",
      "..      ...         ...\n",
      "178    1.93     1.80883\n",
      "179    5.77     6.24527\n",
      "180    1.75     2.02665\n",
      "181    5.71     0.10640\n",
      "182    0.00     0.38265\n",
      "183    0.00     3.40964\n",
      "184    3.14     2.53908\n",
      "185    0.00     3.60442\n",
      "186    1.09     2.34083\n",
      "187    1.72     1.96630\n",
      "188    1.01     0.92038\n",
      "189    0.00     3.07547\n",
      "190    1.43     1.69837\n",
      "191    5.60     5.98863\n",
      "192    2.06     2.01025\n",
      "193    0.00     0.52100\n",
      "194    1.70     1.82675\n",
      "195    1.68     1.64641\n",
      "196    1.58     1.64773\n",
      "197    1.83     2.55780\n",
      "198    0.00     0.72312\n",
      "199    0.00     1.78271\n",
      "200    4.19     4.35354\n",
      "201    0.00     3.47293\n",
      "202    4.52     3.29462\n",
      "203    5.10     3.76649\n",
      "204    4.22     3.97751\n",
      "205    4.16     4.79485\n",
      "206    1.00     2.03732\n",
      "207    0.76     1.01608\n",
      "\n",
      "[208 rows x 2 columns]\n"
     ]
    }
   ],
   "source": [
    "# Instantiate model with 1000 decision trees\n",
    "rf = RandomForestRegressor(n_estimators = 1000, random_state = 42)\n",
    "# Train the model on training data\n",
    "rf.fit(train_features, train_labels)\n",
    "base_predictions = rf.predict(test_features)\n",
    "rf_prediction = pd.DataFrame({'Labels':test_labels})\n",
    "rf_prediction['base_model'] = base_predictions\n",
    "print(rf_prediction)"
   ]
  },
  {
   "cell_type": "code",
   "execution_count": 26,
   "metadata": {},
   "outputs": [
    {
     "data": {
      "text/plain": [
       "array([1.80000000e+01, 3.00000000e+01, 1.80000000e-01, 1.21436000e+05,\n",
       "       1.94300000e+03, 1.60000000e+00, 3.49550000e+02, 8.93800000e+01,\n",
       "       7.99000000e+00, 1.80000000e-01, 7.58102625e+08, 8.17310000e+04,\n",
       "       1.59000000e+00, 9.70700000e+03, 2.99980000e+04, 2.40000000e+00])"
      ]
     },
     "execution_count": 26,
     "metadata": {},
     "output_type": "execute_result"
    }
   ],
   "source": [
    "test_features[2]"
   ]
  },
  {
   "cell_type": "markdown",
   "metadata": {},
   "source": [
    "### Model 2: RF + RandomizedSearchCV"
   ]
  },
  {
   "cell_type": "code",
   "execution_count": 70,
   "metadata": {},
   "outputs": [
    {
     "name": "stdout",
     "output_type": "stream",
     "text": [
      "{'n_estimators': [200, 400, 600, 800, 1000, 1200, 1400, 1600, 1800, 2000], 'max_features': ['auto', 'sqrt'], 'max_depth': [10, 20, 30, 40, 50, 60, 70, 80, 90, 100, 110, None], 'min_samples_split': [2, 5, 10], 'min_samples_leaf': [1, 2, 4], 'bootstrap': [True, False]}\n"
     ]
    }
   ],
   "source": [
    "from sklearn.model_selection import RandomizedSearchCV\n",
    "# Number of trees in random forest\n",
    "n_estimators = [int(x) for x in np.linspace(start = 200, stop = 2000, num = 10)]\n",
    "# Number of features to consider at every split\n",
    "max_features = ['auto', 'sqrt']\n",
    "# Maximum number of levels in tree\n",
    "max_depth = [int(x) for x in np.linspace(10, 110, num = 11)]\n",
    "max_depth.append(None)\n",
    "# Minimum number of samples required to split a node\n",
    "min_samples_split = [2, 5, 10]\n",
    "# Minimum number of samples required at each leaf node\n",
    "min_samples_leaf = [1, 2, 4]\n",
    "# Method of selecting samples for training each tree\n",
    "bootstrap = [True, False]\n",
    "# Create the random grid\n",
    "random_grid = {'n_estimators': n_estimators,\n",
    "               'max_features': max_features,\n",
    "               'max_depth': max_depth,\n",
    "               'min_samples_split': min_samples_split,\n",
    "               'min_samples_leaf': min_samples_leaf,\n",
    "               'bootstrap': bootstrap}\n",
    "print(random_grid)"
   ]
  },
  {
   "cell_type": "code",
   "execution_count": 71,
   "metadata": {},
   "outputs": [
    {
     "name": "stdout",
     "output_type": "stream",
     "text": [
      "Fitting 10 folds for each of 100 candidates, totalling 1000 fits\n"
     ]
    },
    {
     "name": "stderr",
     "output_type": "stream",
     "text": [
      "[Parallel(n_jobs=-1)]: Done  25 tasks      | elapsed:   15.5s\n",
      "[Parallel(n_jobs=-1)]: Done 146 tasks      | elapsed:  2.1min\n",
      "[Parallel(n_jobs=-1)]: Done 349 tasks      | elapsed:  5.4min\n",
      "[Parallel(n_jobs=-1)]: Done 632 tasks      | elapsed:  9.5min\n",
      "[Parallel(n_jobs=-1)]: Done 1000 out of 1000 | elapsed: 14.4min finished\n"
     ]
    }
   ],
   "source": [
    "rf_random = RandomizedSearchCV(estimator = rf, param_distributions = random_grid, n_iter = 100, cv = 10, verbose=2, random_state=42, n_jobs = -1)\n",
    "# Fit the random search model\n",
    "rf_random.fit(train_features, train_labels)\n",
    "random_predictions = rf_random.predict(test_features)\n",
    "rf_prediction['rf_random'] = random_predictions"
   ]
  },
  {
   "cell_type": "code",
   "execution_count": 196,
   "metadata": {},
   "outputs": [
    {
     "data": {
      "text/plain": [
       "{'n_estimators': 1800,\n",
       " 'min_samples_split': 2,\n",
       " 'min_samples_leaf': 4,\n",
       " 'max_features': 'sqrt',\n",
       " 'max_depth': 90,\n",
       " 'bootstrap': True}"
      ]
     },
     "execution_count": 196,
     "metadata": {},
     "output_type": "execute_result"
    }
   ],
   "source": [
    "rf_random.best_params_"
   ]
  },
  {
   "cell_type": "markdown",
   "metadata": {},
   "source": [
    "### Model 3: RF with GridSearchCV"
   ]
  },
  {
   "cell_type": "code",
   "execution_count": 124,
   "metadata": {},
   "outputs": [
    {
     "name": "stdout",
     "output_type": "stream",
     "text": [
      "Fitting 5 folds for each of 768 candidates, totalling 3840 fits\n"
     ]
    },
    {
     "name": "stderr",
     "output_type": "stream",
     "text": [
      "[Parallel(n_jobs=-1)]: Done  25 tasks      | elapsed:   19.6s\n",
      "[Parallel(n_jobs=-1)]: Done 146 tasks      | elapsed:  1.8min\n",
      "[Parallel(n_jobs=-1)]: Done 349 tasks      | elapsed:  3.9min\n",
      "[Parallel(n_jobs=-1)]: Done 632 tasks      | elapsed:  6.9min\n",
      "[Parallel(n_jobs=-1)]: Done 997 tasks      | elapsed: 10.8min\n",
      "[Parallel(n_jobs=-1)]: Done 1442 tasks      | elapsed: 15.2min\n",
      "[Parallel(n_jobs=-1)]: Done 1969 tasks      | elapsed: 21.0min\n",
      "[Parallel(n_jobs=-1)]: Done 2576 tasks      | elapsed: 27.5min\n",
      "[Parallel(n_jobs=-1)]: Done 3265 tasks      | elapsed: 35.1min\n",
      "[Parallel(n_jobs=-1)]: Done 3840 out of 3840 | elapsed: 41.3min finished\n"
     ]
    }
   ],
   "source": [
    "from sklearn.model_selection import GridSearchCV\n",
    "# Create the parameter grid based on the results of random search \n",
    "param_grid = {\n",
    "    'bootstrap': [True],\n",
    "    'max_depth': [80, 90, 100, 110],\n",
    "    'max_features': [2, 3],\n",
    "    'min_samples_leaf': [3, 4, 5, 6],\n",
    "    'min_samples_split': [2, 4, 6, 8],\n",
    "    'n_estimators': [1500, 1600, 1700, 1800, 1900, 2000]\n",
    "}\n",
    "# Create a based model\n",
    "rf = RandomForestRegressor()\n",
    "# Instantiate the grid search model\n",
    "grid_search = GridSearchCV(estimator = rf, param_grid = param_grid, \n",
    "                          cv = 5, n_jobs = -1, verbose = 2)\n",
    "grid_search.fit(train_features, train_labels)\n",
    "gs_predictions = grid_search.predict(test_features)\n",
    "rf_prediction['grid_search'] = gs_predictions"
   ]
  },
  {
   "cell_type": "markdown",
   "metadata": {},
   "source": [
    "### Model 4: OLS"
   ]
  },
  {
   "cell_type": "code",
   "execution_count": 132,
   "metadata": {},
   "outputs": [
    {
     "data": {
      "text/html": [
       "<table class=\"simpletable\">\n",
       "<caption>OLS Regression Results</caption>\n",
       "<tr>\n",
       "  <th>Dep. Variable:</th>            <td>y</td>        <th>  R-squared:         </th> <td>   0.741</td> \n",
       "</tr>\n",
       "<tr>\n",
       "  <th>Model:</th>                   <td>OLS</td>       <th>  Adj. R-squared:    </th> <td>   0.735</td> \n",
       "</tr>\n",
       "<tr>\n",
       "  <th>Method:</th>             <td>Least Squares</td>  <th>  F-statistic:       </th> <td>   123.8</td> \n",
       "</tr>\n",
       "<tr>\n",
       "  <th>Date:</th>             <td>Mon, 09 Dec 2019</td> <th>  Prob (F-statistic):</th> <td>2.55e-167</td>\n",
       "</tr>\n",
       "<tr>\n",
       "  <th>Time:</th>                 <td>16:17:19</td>     <th>  Log-Likelihood:    </th> <td> -1193.5</td> \n",
       "</tr>\n",
       "<tr>\n",
       "  <th>No. Observations:</th>      <td>   621</td>      <th>  AIC:               </th> <td>   2415.</td> \n",
       "</tr>\n",
       "<tr>\n",
       "  <th>Df Residuals:</th>          <td>   607</td>      <th>  BIC:               </th> <td>   2477.</td> \n",
       "</tr>\n",
       "<tr>\n",
       "  <th>Df Model:</th>              <td>    14</td>      <th>                     </th>     <td> </td>    \n",
       "</tr>\n",
       "<tr>\n",
       "  <th>Covariance Type:</th>      <td>nonrobust</td>    <th>                     </th>     <td> </td>    \n",
       "</tr>\n",
       "</table>\n",
       "<table class=\"simpletable\">\n",
       "<tr>\n",
       "   <td></td>      <th>coef</th>     <th>std err</th>      <th>t</th>      <th>P>|t|</th>  <th>[0.025</th>    <th>0.975]</th>  \n",
       "</tr>\n",
       "<tr>\n",
       "  <th>x1</th>  <td>    0.0189</td> <td>    0.014</td> <td>    1.370</td> <td> 0.171</td> <td>   -0.008</td> <td>    0.046</td>\n",
       "</tr>\n",
       "<tr>\n",
       "  <th>x2</th>  <td>   -0.0006</td> <td>    0.001</td> <td>   -0.959</td> <td> 0.338</td> <td>   -0.002</td> <td>    0.001</td>\n",
       "</tr>\n",
       "<tr>\n",
       "  <th>x3</th>  <td>    5.8963</td> <td>    0.861</td> <td>    6.847</td> <td> 0.000</td> <td>    4.205</td> <td>    7.587</td>\n",
       "</tr>\n",
       "<tr>\n",
       "  <th>x4</th>  <td>-6.829e-08</td> <td> 9.27e-07</td> <td>   -0.074</td> <td> 0.941</td> <td>-1.89e-06</td> <td> 1.75e-06</td>\n",
       "</tr>\n",
       "<tr>\n",
       "  <th>x5</th>  <td>-1.322e-05</td> <td> 9.69e-05</td> <td>   -0.136</td> <td> 0.892</td> <td>   -0.000</td> <td>    0.000</td>\n",
       "</tr>\n",
       "<tr>\n",
       "  <th>x6</th>  <td>    0.7185</td> <td>    0.276</td> <td>    2.599</td> <td> 0.010</td> <td>    0.175</td> <td>    1.262</td>\n",
       "</tr>\n",
       "<tr>\n",
       "  <th>x7</th>  <td>    0.0012</td> <td>    0.001</td> <td>    2.339</td> <td> 0.020</td> <td>    0.000</td> <td>    0.002</td>\n",
       "</tr>\n",
       "<tr>\n",
       "  <th>x8</th>  <td>    0.0016</td> <td>    0.005</td> <td>    0.306</td> <td> 0.760</td> <td>   -0.009</td> <td>    0.012</td>\n",
       "</tr>\n",
       "<tr>\n",
       "  <th>x9</th>  <td>    0.0063</td> <td>    0.010</td> <td>    0.644</td> <td> 0.520</td> <td>   -0.013</td> <td>    0.026</td>\n",
       "</tr>\n",
       "<tr>\n",
       "  <th>x10</th> <td>    5.8963</td> <td>    0.861</td> <td>    6.847</td> <td> 0.000</td> <td>    4.205</td> <td>    7.587</td>\n",
       "</tr>\n",
       "<tr>\n",
       "  <th>x11</th> <td>-5.584e-10</td> <td>    3e-10</td> <td>   -1.863</td> <td> 0.063</td> <td>-1.15e-09</td> <td> 3.03e-11</td>\n",
       "</tr>\n",
       "<tr>\n",
       "  <th>x12</th> <td> -5.05e-07</td> <td> 1.24e-06</td> <td>   -0.406</td> <td> 0.685</td> <td>-2.95e-06</td> <td> 1.94e-06</td>\n",
       "</tr>\n",
       "<tr>\n",
       "  <th>x13</th> <td>   -0.4760</td> <td>    0.234</td> <td>   -2.037</td> <td> 0.042</td> <td>   -0.935</td> <td>   -0.017</td>\n",
       "</tr>\n",
       "<tr>\n",
       "  <th>x14</th> <td> 2.476e-06</td> <td> 2.93e-06</td> <td>    0.845</td> <td> 0.399</td> <td>-3.28e-06</td> <td> 8.23e-06</td>\n",
       "</tr>\n",
       "<tr>\n",
       "  <th>x15</th> <td>-2.039e-06</td> <td>    2e-06</td> <td>   -1.019</td> <td> 0.309</td> <td>-5.97e-06</td> <td> 1.89e-06</td>\n",
       "</tr>\n",
       "<tr>\n",
       "  <th>x16</th> <td>    0.1428</td> <td>    0.098</td> <td>    1.462</td> <td> 0.144</td> <td>   -0.049</td> <td>    0.334</td>\n",
       "</tr>\n",
       "</table>\n",
       "<table class=\"simpletable\">\n",
       "<tr>\n",
       "  <th>Omnibus:</th>       <td>474.205</td> <th>  Durbin-Watson:     </th> <td>   2.063</td> \n",
       "</tr>\n",
       "<tr>\n",
       "  <th>Prob(Omnibus):</th> <td> 0.000</td>  <th>  Jarque-Bera (JB):  </th> <td>17847.804</td>\n",
       "</tr>\n",
       "<tr>\n",
       "  <th>Skew:</th>          <td> 2.966</td>  <th>  Prob(JB):          </th> <td>    0.00</td> \n",
       "</tr>\n",
       "<tr>\n",
       "  <th>Kurtosis:</th>      <td>28.585</td>  <th>  Cond. No.          </th> <td>1.60e+21</td> \n",
       "</tr>\n",
       "</table><br/><br/>Warnings:<br/>[1] Standard Errors assume that the covariance matrix of the errors is correctly specified.<br/>[2] The smallest eigenvalue is 3.19e-22. This might indicate that there are<br/>strong multicollinearity problems or that the design matrix is singular."
      ],
      "text/plain": [
       "<class 'statsmodels.iolib.summary.Summary'>\n",
       "\"\"\"\n",
       "                            OLS Regression Results                            \n",
       "==============================================================================\n",
       "Dep. Variable:                      y   R-squared:                       0.741\n",
       "Model:                            OLS   Adj. R-squared:                  0.735\n",
       "Method:                 Least Squares   F-statistic:                     123.8\n",
       "Date:                Mon, 09 Dec 2019   Prob (F-statistic):          2.55e-167\n",
       "Time:                        16:17:19   Log-Likelihood:                -1193.5\n",
       "No. Observations:                 621   AIC:                             2415.\n",
       "Df Residuals:                     607   BIC:                             2477.\n",
       "Df Model:                          14                                         \n",
       "Covariance Type:            nonrobust                                         \n",
       "==============================================================================\n",
       "                 coef    std err          t      P>|t|      [0.025      0.975]\n",
       "------------------------------------------------------------------------------\n",
       "x1             0.0189      0.014      1.370      0.171      -0.008       0.046\n",
       "x2            -0.0006      0.001     -0.959      0.338      -0.002       0.001\n",
       "x3             5.8963      0.861      6.847      0.000       4.205       7.587\n",
       "x4         -6.829e-08   9.27e-07     -0.074      0.941   -1.89e-06    1.75e-06\n",
       "x5         -1.322e-05   9.69e-05     -0.136      0.892      -0.000       0.000\n",
       "x6             0.7185      0.276      2.599      0.010       0.175       1.262\n",
       "x7             0.0012      0.001      2.339      0.020       0.000       0.002\n",
       "x8             0.0016      0.005      0.306      0.760      -0.009       0.012\n",
       "x9             0.0063      0.010      0.644      0.520      -0.013       0.026\n",
       "x10            5.8963      0.861      6.847      0.000       4.205       7.587\n",
       "x11        -5.584e-10      3e-10     -1.863      0.063   -1.15e-09    3.03e-11\n",
       "x12         -5.05e-07   1.24e-06     -0.406      0.685   -2.95e-06    1.94e-06\n",
       "x13           -0.4760      0.234     -2.037      0.042      -0.935      -0.017\n",
       "x14         2.476e-06   2.93e-06      0.845      0.399   -3.28e-06    8.23e-06\n",
       "x15        -2.039e-06      2e-06     -1.019      0.309   -5.97e-06    1.89e-06\n",
       "x16            0.1428      0.098      1.462      0.144      -0.049       0.334\n",
       "==============================================================================\n",
       "Omnibus:                      474.205   Durbin-Watson:                   2.063\n",
       "Prob(Omnibus):                  0.000   Jarque-Bera (JB):            17847.804\n",
       "Skew:                           2.966   Prob(JB):                         0.00\n",
       "Kurtosis:                      28.585   Cond. No.                     1.60e+21\n",
       "==============================================================================\n",
       "\n",
       "Warnings:\n",
       "[1] Standard Errors assume that the covariance matrix of the errors is correctly specified.\n",
       "[2] The smallest eigenvalue is 3.19e-22. This might indicate that there are\n",
       "strong multicollinearity problems or that the design matrix is singular.\n",
       "\"\"\""
      ]
     },
     "execution_count": 132,
     "metadata": {},
     "output_type": "execute_result"
    }
   ],
   "source": [
    "## Without a constant\n",
    "import statsmodels.api as sm\n",
    "# Note the difference in argument order\n",
    "OLS_model = sm.OLS(train_labels, train_features).fit()\n",
    "OLS_predictions = OLS_model.predict(test_features) # make the predictions by the model\n",
    "rf_prediction['OLS'] = OLS_predictions\n",
    "# Print out the statistics\n",
    "OLS_model.summary()"
   ]
  },
  {
   "cell_type": "markdown",
   "metadata": {},
   "source": [
    "### Model 5: Linear Regression "
   ]
  },
  {
   "cell_type": "code",
   "execution_count": 131,
   "metadata": {},
   "outputs": [
    {
     "name": "stdout",
     "output_type": "stream",
     "text": [
      "     Labels  base_model  grid_search     lasso   elastic     ridge        LR\n",
      "0      2.17     2.07612     2.088188  2.153905  2.153905  1.882444  1.880456\n",
      "1      0.85     1.83206     1.680416  2.142516  2.142516  1.774538  1.770883\n",
      "2      3.04     3.10956     3.326763  3.305514  3.305514  3.303519  3.303269\n",
      "3      0.75     1.75340     1.850339  2.015794  2.015794  1.946031  1.945653\n",
      "4      1.82     3.50574     3.674091  1.881847  1.881847  1.824015  1.823957\n",
      "5      0.00     1.76464     2.618786  3.074462  3.074462  3.216668  3.217908\n",
      "6      1.62     2.04285     1.951159  2.246691  2.246691  2.068636  2.066938\n",
      "7      4.27     3.53743     3.621087  3.089900  3.089900  3.740025  3.745594\n",
      "8      2.48     2.41939     2.930347  3.144073  3.144073  3.138380  3.138558\n",
      "9      1.36     1.37222     1.356678  1.942305  1.942305  1.844773  1.844288\n",
      "10     2.07     2.09623     1.963233  2.152872  2.152872  1.991998  1.990821\n",
      "11     1.90     2.19088     2.048951  2.412902  2.412902  2.423278  2.422992\n",
      "12     6.04     6.15535     5.462329  3.984552  3.984552  3.851450  3.849872\n",
      "13     1.67     1.87635     1.994485  1.996639  1.996639  1.994518  1.994295\n",
      "14     4.37     4.17348     4.058531  3.112853  3.112853  3.375371  3.377606\n",
      "15     2.00     1.90596     2.008235  2.253123  2.253123  2.020747  2.018718\n",
      "16     2.26     2.14170     2.116230  2.068910  2.068910  2.095744  2.095703\n",
      "17     2.39     2.43178     2.898472  3.109782  3.109782  3.100762  3.100896\n",
      "18     4.09     3.58908     3.432229  2.483774  2.483774  2.542075  2.543463\n",
      "19     6.49     6.25600     5.506936  4.647962  4.647962  4.446998  4.444783\n",
      "20     3.37     4.11932     3.927687  3.443465  3.443465  3.740411  3.742841\n",
      "21     1.73     2.88761     2.524170  2.157679  2.157679  2.097405  2.097187\n",
      "22     0.00     0.17421     0.296166  1.737312  1.737312  1.552119  1.550483\n",
      "23     0.00     3.26099     3.635729  2.972489  2.972489  2.813078  2.811158\n",
      "24     1.44     1.97717     2.047409  2.185569  2.185569  1.900845  1.898391\n",
      "25     2.11     2.08474     2.057935  1.439458  1.439458  1.446066  1.446438\n",
      "26     0.00     1.24953     1.277253  1.594952  1.594952  1.075867  1.071666\n",
      "27     1.63     1.77717     1.709709  2.415282  2.415282  2.278779  2.277905\n",
      "28     0.00     2.90814     1.581161  2.185364  2.185364  2.119319  2.119278\n",
      "29     1.49     1.63491     1.670867  2.350657  2.350657  2.223796  2.222626\n",
      "..      ...         ...          ...       ...       ...       ...       ...\n",
      "178    1.93     1.80883     1.843097  1.800077  1.800077  1.640038  1.638832\n",
      "179    5.77     6.24527     5.602394  4.371456  4.371456  4.307505  4.306748\n",
      "180    1.75     2.02665     1.921882  1.996970  1.996970  1.825638  1.824300\n",
      "181    5.71     0.10640     0.659849  2.099304  2.099304  1.858892  1.856553\n",
      "182    0.00     0.38265     0.973824  1.607782  1.607782  1.196461  1.193589\n",
      "183    0.00     3.40964     2.616437  2.261824  2.261824  2.296224  2.296569\n",
      "184    3.14     2.53908     2.997705  3.192919  3.192919  3.187816  3.188009\n",
      "185    0.00     3.60442     1.565182  1.441311  1.441311  1.270559  1.270416\n",
      "186    1.09     2.34083     2.228825  2.077685  2.077685  2.094748  2.094764\n",
      "187    1.72     1.96630     1.983533  2.341378  2.341378  2.185233  2.183735\n",
      "188    1.01     0.92038     0.969602 -0.070856 -0.070856  0.144021  0.145814\n",
      "189    0.00     3.07547     3.111060  2.217884  2.217884  2.249691  2.250687\n",
      "190    1.43     1.69837     1.772459  1.880318  1.880318  1.657392  1.655576\n",
      "191    5.60     5.98863     5.335612  4.941119  4.941119  5.029360  5.029864\n",
      "192    2.06     2.01025     2.052982  2.071742  2.071742  1.885143  1.884281\n",
      "193    0.00     0.52100     0.794335  0.253583  0.253583  0.799590  0.804164\n",
      "194    1.70     1.82675     1.854858  2.046677  2.046677  1.980986  1.980597\n",
      "195    1.68     1.64641     1.678334  1.284469  1.284469  1.625300  1.628035\n",
      "196    1.58     1.64773     1.636203  1.829635  1.829635  1.661932  1.661383\n",
      "197    1.83     2.55780     2.537709  2.869905  2.869905  2.733030  2.732012\n",
      "198    0.00     0.72312     0.814272  1.835907  1.835907  1.509187  1.506934\n",
      "199    0.00     1.78271     2.608818  2.190638  2.190638  2.372766  2.374587\n",
      "200    4.19     4.35354     4.170832  3.019795  3.019795  3.236392  3.238155\n",
      "201    0.00     3.47293     2.028353  4.435598  4.435598  4.398222  4.397614\n",
      "202    4.52     3.29462     3.022442  2.362599  2.362599  2.672115  2.674968\n",
      "203    5.10     3.76649     3.490179  2.723619  2.723619  2.741451  2.742179\n",
      "204    4.22     3.97751     4.168843  4.088652  4.088652  4.382223  4.384778\n",
      "205    4.16     4.79485     4.530750  4.461386  4.461386  4.467198  4.467301\n",
      "206    1.00     2.03732     1.907999  2.109288  2.109288  1.973322  1.971286\n",
      "207    0.76     1.01608     1.070674  0.889998  0.889998  0.988858  0.990086\n",
      "\n",
      "[208 rows x 7 columns]\n"
     ]
    }
   ],
   "source": [
    "from sklearn import linear_model\n",
    "lr = linear_model.LinearRegression()\n",
    "lr_model = lr.fit(train_features,train_labels)\n",
    "lr_predictions = lr_model.predict(test_features)\n",
    "rf_prediction['LR'] = lr_predictions\n",
    "lr_model.score(train_features,train_labels)\n",
    "print(rf_prediction)"
   ]
  },
  {
   "cell_type": "code",
   "execution_count": 80,
   "metadata": {},
   "outputs": [
    {
     "data": {
      "text/plain": [
       "0.32888111426580213"
      ]
     },
     "execution_count": 80,
     "metadata": {},
     "output_type": "execute_result"
    }
   ],
   "source": [
    "lr_model.score(train_features,train_labels)"
   ]
  },
  {
   "cell_type": "markdown",
   "metadata": {},
   "source": [
    "### Model 5: Ridge Regression"
   ]
  },
  {
   "cell_type": "code",
   "execution_count": 130,
   "metadata": {},
   "outputs": [
    {
     "name": "stdout",
     "output_type": "stream",
     "text": [
      "     Labels  base_model  grid_search     lasso   elastic     ridge\n",
      "0      2.17     2.07612     2.088188  2.153905  2.153905  1.882444\n",
      "1      0.85     1.83206     1.680416  2.142516  2.142516  1.774538\n",
      "2      3.04     3.10956     3.326763  3.305514  3.305514  3.303519\n",
      "3      0.75     1.75340     1.850339  2.015794  2.015794  1.946031\n",
      "4      1.82     3.50574     3.674091  1.881847  1.881847  1.824015\n",
      "5      0.00     1.76464     2.618786  3.074462  3.074462  3.216668\n",
      "6      1.62     2.04285     1.951159  2.246691  2.246691  2.068636\n",
      "7      4.27     3.53743     3.621087  3.089900  3.089900  3.740025\n",
      "8      2.48     2.41939     2.930347  3.144073  3.144073  3.138380\n",
      "9      1.36     1.37222     1.356678  1.942305  1.942305  1.844773\n",
      "10     2.07     2.09623     1.963233  2.152872  2.152872  1.991998\n",
      "11     1.90     2.19088     2.048951  2.412902  2.412902  2.423278\n",
      "12     6.04     6.15535     5.462329  3.984552  3.984552  3.851450\n",
      "13     1.67     1.87635     1.994485  1.996639  1.996639  1.994518\n",
      "14     4.37     4.17348     4.058531  3.112853  3.112853  3.375371\n",
      "15     2.00     1.90596     2.008235  2.253123  2.253123  2.020747\n",
      "16     2.26     2.14170     2.116230  2.068910  2.068910  2.095744\n",
      "17     2.39     2.43178     2.898472  3.109782  3.109782  3.100762\n",
      "18     4.09     3.58908     3.432229  2.483774  2.483774  2.542075\n",
      "19     6.49     6.25600     5.506936  4.647962  4.647962  4.446998\n",
      "20     3.37     4.11932     3.927687  3.443465  3.443465  3.740411\n",
      "21     1.73     2.88761     2.524170  2.157679  2.157679  2.097405\n",
      "22     0.00     0.17421     0.296166  1.737312  1.737312  1.552119\n",
      "23     0.00     3.26099     3.635729  2.972489  2.972489  2.813078\n",
      "24     1.44     1.97717     2.047409  2.185569  2.185569  1.900845\n",
      "25     2.11     2.08474     2.057935  1.439458  1.439458  1.446066\n",
      "26     0.00     1.24953     1.277253  1.594952  1.594952  1.075867\n",
      "27     1.63     1.77717     1.709709  2.415282  2.415282  2.278779\n",
      "28     0.00     2.90814     1.581161  2.185364  2.185364  2.119319\n",
      "29     1.49     1.63491     1.670867  2.350657  2.350657  2.223796\n",
      "..      ...         ...          ...       ...       ...       ...\n",
      "178    1.93     1.80883     1.843097  1.800077  1.800077  1.640038\n",
      "179    5.77     6.24527     5.602394  4.371456  4.371456  4.307505\n",
      "180    1.75     2.02665     1.921882  1.996970  1.996970  1.825638\n",
      "181    5.71     0.10640     0.659849  2.099304  2.099304  1.858892\n",
      "182    0.00     0.38265     0.973824  1.607782  1.607782  1.196461\n",
      "183    0.00     3.40964     2.616437  2.261824  2.261824  2.296224\n",
      "184    3.14     2.53908     2.997705  3.192919  3.192919  3.187816\n",
      "185    0.00     3.60442     1.565182  1.441311  1.441311  1.270559\n",
      "186    1.09     2.34083     2.228825  2.077685  2.077685  2.094748\n",
      "187    1.72     1.96630     1.983533  2.341378  2.341378  2.185233\n",
      "188    1.01     0.92038     0.969602 -0.070856 -0.070856  0.144021\n",
      "189    0.00     3.07547     3.111060  2.217884  2.217884  2.249691\n",
      "190    1.43     1.69837     1.772459  1.880318  1.880318  1.657392\n",
      "191    5.60     5.98863     5.335612  4.941119  4.941119  5.029360\n",
      "192    2.06     2.01025     2.052982  2.071742  2.071742  1.885143\n",
      "193    0.00     0.52100     0.794335  0.253583  0.253583  0.799590\n",
      "194    1.70     1.82675     1.854858  2.046677  2.046677  1.980986\n",
      "195    1.68     1.64641     1.678334  1.284469  1.284469  1.625300\n",
      "196    1.58     1.64773     1.636203  1.829635  1.829635  1.661932\n",
      "197    1.83     2.55780     2.537709  2.869905  2.869905  2.733030\n",
      "198    0.00     0.72312     0.814272  1.835907  1.835907  1.509187\n",
      "199    0.00     1.78271     2.608818  2.190638  2.190638  2.372766\n",
      "200    4.19     4.35354     4.170832  3.019795  3.019795  3.236392\n",
      "201    0.00     3.47293     2.028353  4.435598  4.435598  4.398222\n",
      "202    4.52     3.29462     3.022442  2.362599  2.362599  2.672115\n",
      "203    5.10     3.76649     3.490179  2.723619  2.723619  2.741451\n",
      "204    4.22     3.97751     4.168843  4.088652  4.088652  4.382223\n",
      "205    4.16     4.79485     4.530750  4.461386  4.461386  4.467198\n",
      "206    1.00     2.03732     1.907999  2.109288  2.109288  1.973322\n",
      "207    0.76     1.01608     1.070674  0.889998  0.889998  0.988858\n",
      "\n",
      "[208 rows x 6 columns]\n"
     ]
    },
    {
     "name": "stderr",
     "output_type": "stream",
     "text": [
      "C:\\Users\\pltru\\Anaconda3\\lib\\site-packages\\sklearn\\linear_model\\ridge.py:112: LinAlgWarning: scipy.linalg.solve\n",
      "Ill-conditioned matrix detected. Result is not guaranteed to be accurate.\n",
      "Reciprocal condition number2.105687e-22\n",
      "  overwrite_a=True).T\n"
     ]
    }
   ],
   "source": [
    "from sklearn.linear_model import Ridge\n",
    "\n",
    "lr_ridge = Ridge(alpha = 0.01).fit(train_features, train_labels)\n",
    "lr_ridge.score(train_features, train_labels)\n",
    "ridge_predictions = lr_ridge.predict(test_features)\n",
    "rf_prediction['ridge'] = ridge_predictions\n",
    "\n",
    "print(rf_prediction)"
   ]
  },
  {
   "cell_type": "markdown",
   "metadata": {},
   "source": [
    "### Model 6: Lasso Regression"
   ]
  },
  {
   "cell_type": "code",
   "execution_count": 128,
   "metadata": {},
   "outputs": [
    {
     "name": "stdout",
     "output_type": "stream",
     "text": [
      "     Labels  base_model  grid_search     lasso\n",
      "0      2.17     2.07612     2.088188  2.153905\n",
      "1      0.85     1.83206     1.680416  2.142516\n",
      "2      3.04     3.10956     3.326763  3.305514\n",
      "3      0.75     1.75340     1.850339  2.015794\n",
      "4      1.82     3.50574     3.674091  1.881847\n",
      "5      0.00     1.76464     2.618786  3.074462\n",
      "6      1.62     2.04285     1.951159  2.246691\n",
      "7      4.27     3.53743     3.621087  3.089900\n",
      "8      2.48     2.41939     2.930347  3.144073\n",
      "9      1.36     1.37222     1.356678  1.942305\n",
      "10     2.07     2.09623     1.963233  2.152872\n",
      "11     1.90     2.19088     2.048951  2.412902\n",
      "12     6.04     6.15535     5.462329  3.984552\n",
      "13     1.67     1.87635     1.994485  1.996639\n",
      "14     4.37     4.17348     4.058531  3.112853\n",
      "15     2.00     1.90596     2.008235  2.253123\n",
      "16     2.26     2.14170     2.116230  2.068910\n",
      "17     2.39     2.43178     2.898472  3.109782\n",
      "18     4.09     3.58908     3.432229  2.483774\n",
      "19     6.49     6.25600     5.506936  4.647962\n",
      "20     3.37     4.11932     3.927687  3.443465\n",
      "21     1.73     2.88761     2.524170  2.157679\n",
      "22     0.00     0.17421     0.296166  1.737312\n",
      "23     0.00     3.26099     3.635729  2.972489\n",
      "24     1.44     1.97717     2.047409  2.185569\n",
      "25     2.11     2.08474     2.057935  1.439458\n",
      "26     0.00     1.24953     1.277253  1.594952\n",
      "27     1.63     1.77717     1.709709  2.415282\n",
      "28     0.00     2.90814     1.581161  2.185364\n",
      "29     1.49     1.63491     1.670867  2.350657\n",
      "..      ...         ...          ...       ...\n",
      "178    1.93     1.80883     1.843097  1.800077\n",
      "179    5.77     6.24527     5.602394  4.371456\n",
      "180    1.75     2.02665     1.921882  1.996970\n",
      "181    5.71     0.10640     0.659849  2.099304\n",
      "182    0.00     0.38265     0.973824  1.607782\n",
      "183    0.00     3.40964     2.616437  2.261824\n",
      "184    3.14     2.53908     2.997705  3.192919\n",
      "185    0.00     3.60442     1.565182  1.441311\n",
      "186    1.09     2.34083     2.228825  2.077685\n",
      "187    1.72     1.96630     1.983533  2.341378\n",
      "188    1.01     0.92038     0.969602 -0.070856\n",
      "189    0.00     3.07547     3.111060  2.217884\n",
      "190    1.43     1.69837     1.772459  1.880318\n",
      "191    5.60     5.98863     5.335612  4.941119\n",
      "192    2.06     2.01025     2.052982  2.071742\n",
      "193    0.00     0.52100     0.794335  0.253583\n",
      "194    1.70     1.82675     1.854858  2.046677\n",
      "195    1.68     1.64641     1.678334  1.284469\n",
      "196    1.58     1.64773     1.636203  1.829635\n",
      "197    1.83     2.55780     2.537709  2.869905\n",
      "198    0.00     0.72312     0.814272  1.835907\n",
      "199    0.00     1.78271     2.608818  2.190638\n",
      "200    4.19     4.35354     4.170832  3.019795\n",
      "201    0.00     3.47293     2.028353  4.435598\n",
      "202    4.52     3.29462     3.022442  2.362599\n",
      "203    5.10     3.76649     3.490179  2.723619\n",
      "204    4.22     3.97751     4.168843  4.088652\n",
      "205    4.16     4.79485     4.530750  4.461386\n",
      "206    1.00     2.03732     1.907999  2.109288\n",
      "207    0.76     1.01608     1.070674  0.889998\n",
      "\n",
      "[208 rows x 4 columns]\n"
     ]
    },
    {
     "name": "stderr",
     "output_type": "stream",
     "text": [
      "C:\\Users\\pltru\\Anaconda3\\lib\\site-packages\\sklearn\\linear_model\\coordinate_descent.py:491: ConvergenceWarning: Objective did not converge. You might want to increase the number of iterations. Fitting data with very small alpha may cause precision problems.\n",
      "  ConvergenceWarning)\n"
     ]
    }
   ],
   "source": [
    "from sklearn.linear_model import Lasso\n",
    "\n",
    "lr_lasso = Lasso(alpha = 0.01).fit(train_features, train_labels)\n",
    "lr_lasso.score(train_features, train_labels)\n",
    "lasso_predictions = lr_lasso.predict(test_features)\n",
    "rf_prediction['lasso'] = lasso_predictions\n",
    "\n",
    "print(rf_prediction)"
   ]
  },
  {
   "cell_type": "markdown",
   "metadata": {},
   "source": [
    "### Model 7: Multitask Elastic Net"
   ]
  },
  {
   "cell_type": "code",
   "execution_count": 129,
   "metadata": {},
   "outputs": [
    {
     "name": "stdout",
     "output_type": "stream",
     "text": [
      "     Labels  base_model  grid_search     lasso   elastic\n",
      "0      2.17     2.07612     2.088188  2.153905  2.153905\n",
      "1      0.85     1.83206     1.680416  2.142516  2.142516\n",
      "2      3.04     3.10956     3.326763  3.305514  3.305514\n",
      "3      0.75     1.75340     1.850339  2.015794  2.015794\n",
      "4      1.82     3.50574     3.674091  1.881847  1.881847\n",
      "5      0.00     1.76464     2.618786  3.074462  3.074462\n",
      "6      1.62     2.04285     1.951159  2.246691  2.246691\n",
      "7      4.27     3.53743     3.621087  3.089900  3.089900\n",
      "8      2.48     2.41939     2.930347  3.144073  3.144073\n",
      "9      1.36     1.37222     1.356678  1.942305  1.942305\n",
      "10     2.07     2.09623     1.963233  2.152872  2.152872\n",
      "11     1.90     2.19088     2.048951  2.412902  2.412902\n",
      "12     6.04     6.15535     5.462329  3.984552  3.984552\n",
      "13     1.67     1.87635     1.994485  1.996639  1.996639\n",
      "14     4.37     4.17348     4.058531  3.112853  3.112853\n",
      "15     2.00     1.90596     2.008235  2.253123  2.253123\n",
      "16     2.26     2.14170     2.116230  2.068910  2.068910\n",
      "17     2.39     2.43178     2.898472  3.109782  3.109782\n",
      "18     4.09     3.58908     3.432229  2.483774  2.483774\n",
      "19     6.49     6.25600     5.506936  4.647962  4.647962\n",
      "20     3.37     4.11932     3.927687  3.443465  3.443465\n",
      "21     1.73     2.88761     2.524170  2.157679  2.157679\n",
      "22     0.00     0.17421     0.296166  1.737312  1.737312\n",
      "23     0.00     3.26099     3.635729  2.972489  2.972489\n",
      "24     1.44     1.97717     2.047409  2.185569  2.185569\n",
      "25     2.11     2.08474     2.057935  1.439458  1.439458\n",
      "26     0.00     1.24953     1.277253  1.594952  1.594952\n",
      "27     1.63     1.77717     1.709709  2.415282  2.415282\n",
      "28     0.00     2.90814     1.581161  2.185364  2.185364\n",
      "29     1.49     1.63491     1.670867  2.350657  2.350657\n",
      "..      ...         ...          ...       ...       ...\n",
      "178    1.93     1.80883     1.843097  1.800077  1.800077\n",
      "179    5.77     6.24527     5.602394  4.371456  4.371456\n",
      "180    1.75     2.02665     1.921882  1.996970  1.996970\n",
      "181    5.71     0.10640     0.659849  2.099304  2.099304\n",
      "182    0.00     0.38265     0.973824  1.607782  1.607782\n",
      "183    0.00     3.40964     2.616437  2.261824  2.261824\n",
      "184    3.14     2.53908     2.997705  3.192919  3.192919\n",
      "185    0.00     3.60442     1.565182  1.441311  1.441311\n",
      "186    1.09     2.34083     2.228825  2.077685  2.077685\n",
      "187    1.72     1.96630     1.983533  2.341378  2.341378\n",
      "188    1.01     0.92038     0.969602 -0.070856 -0.070856\n",
      "189    0.00     3.07547     3.111060  2.217884  2.217884\n",
      "190    1.43     1.69837     1.772459  1.880318  1.880318\n",
      "191    5.60     5.98863     5.335612  4.941119  4.941119\n",
      "192    2.06     2.01025     2.052982  2.071742  2.071742\n",
      "193    0.00     0.52100     0.794335  0.253583  0.253583\n",
      "194    1.70     1.82675     1.854858  2.046677  2.046677\n",
      "195    1.68     1.64641     1.678334  1.284469  1.284469\n",
      "196    1.58     1.64773     1.636203  1.829635  1.829635\n",
      "197    1.83     2.55780     2.537709  2.869905  2.869905\n",
      "198    0.00     0.72312     0.814272  1.835907  1.835907\n",
      "199    0.00     1.78271     2.608818  2.190638  2.190638\n",
      "200    4.19     4.35354     4.170832  3.019795  3.019795\n",
      "201    0.00     3.47293     2.028353  4.435598  4.435598\n",
      "202    4.52     3.29462     3.022442  2.362599  2.362599\n",
      "203    5.10     3.76649     3.490179  2.723619  2.723619\n",
      "204    4.22     3.97751     4.168843  4.088652  4.088652\n",
      "205    4.16     4.79485     4.530750  4.461386  4.461386\n",
      "206    1.00     2.03732     1.907999  2.109288  2.109288\n",
      "207    0.76     1.01608     1.070674  0.889998  0.889998\n",
      "\n",
      "[208 rows x 5 columns]\n"
     ]
    },
    {
     "name": "stderr",
     "output_type": "stream",
     "text": [
      "C:\\Users\\pltru\\Anaconda3\\lib\\site-packages\\sklearn\\linear_model\\coordinate_descent.py:491: ConvergenceWarning: Objective did not converge. You might want to increase the number of iterations. Fitting data with very small alpha may cause precision problems.\n",
      "  ConvergenceWarning)\n"
     ]
    }
   ],
   "source": [
    "from sklearn.linear_model import ElasticNet\n",
    "elastic = ElasticNet(alpha=0.01, l1_ratio = 1).fit(train_features, train_labels)\n",
    "elastic.score(train_features, train_labels)\n",
    "elastic_predictions = elastic.predict(test_features)\n",
    "rf_prediction['elastic'] = elastic_predictions\n",
    "\n",
    "print(rf_prediction)"
   ]
  },
  {
   "cell_type": "markdown",
   "metadata": {},
   "source": [
    "## Export to CSV"
   ]
  },
  {
   "cell_type": "code",
   "execution_count": 133,
   "metadata": {},
   "outputs": [],
   "source": [
    "rf_prediction.to_csv('predictions.csv', index = False)"
   ]
  },
  {
   "cell_type": "code",
   "execution_count": 193,
   "metadata": {},
   "outputs": [
    {
     "data": {
      "text/plain": [
       "array([2.151, 1.68 , 3.125, 1.667, 2.97 , 1.802, 2.111, 3.51 , 2.176,\n",
       "       1.359, 2.004, 2.275, 6.434, 1.692, 4.539, 1.695, 2.269, 2.247,\n",
       "       2.837, 6.213, 4.041, 2.696, 0.   , 3.436, 2.029, 2.153, 0.981,\n",
       "       1.72 , 0.714, 1.578, 3.618, 1.56 , 0.95 , 3.164, 2.214, 0.975,\n",
       "       1.445, 4.299, 4.295, 1.554, 1.9  , 0.848, 1.687, 3.507, 3.755,\n",
       "       1.109, 2.108, 2.102, 1.677, 1.346, 0.624, 3.341, 1.851, 1.429,\n",
       "       1.375, 2.023, 0.959, 2.344, 5.88 , 4.061, 2.094, 0.405, 5.061,\n",
       "       3.041, 3.601, 3.311, 0.826, 2.072, 3.857, 5.14 , 1.684, 1.835,\n",
       "       1.73 , 2.372, 1.963, 2.428, 7.227, 3.967, 2.164, 1.564, 0.687,\n",
       "       0.911, 0.   , 1.239, 2.132, 1.368, 1.654, 3.601, 2.338, 4.586,\n",
       "       1.197, 2.856, 1.677, 1.748, 2.506, 2.615, 3.92 , 1.095, 3.372,\n",
       "       2.27 , 2.529, 0.838, 1.76 , 1.601, 7.013, 5.935, 1.934, 1.363,\n",
       "       1.42 , 1.582, 3.22 , 2.391, 0.837, 0.473, 3.552, 1.906, 3.289,\n",
       "       2.247, 2.539, 1.16 , 1.348, 1.716, 1.57 , 2.191, 0.   , 2.74 ,\n",
       "       5.945, 2.376, 1.947, 1.469, 0.   , 2.49 , 2.388, 3.354, 1.25 ,\n",
       "       1.558, 0.915, 1.31 , 2.319, 1.936, 5.351, 2.536, 1.071, 2.142,\n",
       "       2.795, 1.582, 1.757, 6.65 , 0.26 , 1.676, 1.96 , 2.1  , 2.77 ,\n",
       "       5.618, 4.156, 1.462, 2.274, 1.925, 2.089, 3.782, 1.338, 1.911,\n",
       "       4.755, 2.962, 1.978, 3.171, 2.069, 2.314, 1.556, 1.118, 2.011,\n",
       "       3.564, 2.211, 1.363, 2.276, 1.783, 0.   , 5.881, 2.043, 6.355,\n",
       "       1.979, 0.18 , 0.536, 4.957, 2.593, 2.016, 1.434, 2.049, 0.907,\n",
       "       2.386, 1.932, 5.88 , 2.124, 0.388, 1.977, 1.707, 1.504, 2.686,\n",
       "       0.536, 1.756, 4.44 , 3.837, 3.155, 3.648, 3.786, 5.01 , 1.727,\n",
       "       0.947])"
      ]
     },
     "execution_count": 193,
     "metadata": {},
     "output_type": "execute_result"
    }
   ],
   "source": [
    "base_model = RandomForestRegressor(n_estimators = 10, random_state = 42)\n",
    "base_model.fit(train_features, train_labels)\n",
    "base_model.predict(test_features)\n",
    "test = pd.DataFrame({'Labels':test_labels})\n",
    "test['predictions'] = predictions\n",
    "test.to_csv('results_6.csv', index = False)"
   ]
  },
  {
   "cell_type": "code",
   "execution_count": 45,
   "metadata": {},
   "outputs": [
    {
     "name": "stdout",
     "output_type": "stream",
     "text": [
      "Variable: Avg cost             Importance: 0.16\n",
      "Variable: CPC avg.             Importance: 0.15\n",
      "Variable: Non measurable impr. Importance: 0.15\n",
      "Variable: Cost                 Importance: 0.08\n",
      "Variable: Clicks               Importance: 0.06\n",
      "Variable: CTR                  Importance: 0.06\n",
      "Variable: Impr. viewable       Importance: 0.05\n",
      "Variable: CPM avg viewable     Importance: 0.05\n",
      "Variable: Impressions          Importance: 0.04\n",
      "Variable: Percentage viewable  Importance: 0.04\n",
      "Variable: CTR viewable         Importance: 0.04\n",
      "Variable: Campaign id          Importance: 0.03\n",
      "Variable: Impr. non viewable   Importance: 0.03\n",
      "Variable: Hour of day          Importance: 0.02\n",
      "Variable: Budget               Importance: 0.02\n",
      "Variable: Non viewable impressions distrib. Importance: 0.02\n"
     ]
    },
    {
     "data": {
      "text/plain": [
       "[None,\n",
       " None,\n",
       " None,\n",
       " None,\n",
       " None,\n",
       " None,\n",
       " None,\n",
       " None,\n",
       " None,\n",
       " None,\n",
       " None,\n",
       " None,\n",
       " None,\n",
       " None,\n",
       " None,\n",
       " None]"
      ]
     },
     "execution_count": 45,
     "metadata": {},
     "output_type": "execute_result"
    }
   ],
   "source": [
    "# Get numerical feature importances\n",
    "importances = list(rf_random.feature_importances_)\n",
    "# List of tuples with variable and importance\n",
    "feature_importances = [(feature, round(importance, 2)) for feature, importance in zip(feature_list, importances)]\n",
    "# Sort the feature importances by most important first\n",
    "feature_importances = sorted(feature_importances, key = lambda x: x[1], reverse = True)\n",
    "# Print out the feature and importances \n",
    "[print('Variable: {:20} Importance: {}'.format(*pair)) for pair in feature_importances]"
   ]
  },
  {
   "cell_type": "code",
   "execution_count": 46,
   "metadata": {},
   "outputs": [
    {
     "data": {
      "image/png": "[encoded data removed]",
      "text/plain": [
       "<Figure size 432x288 with 1 Axes>"
      ]
     },
     "metadata": {},
     "output_type": "display_data"
    }
   ],
   "source": [
    "# Import matplotlib for plotting and use magic command for Jupyter Notebooks\n",
    "import matplotlib.pyplot as plt\n",
    "%matplotlib inline\n",
    "# Set the style\n",
    "plt.style.use('fivethirtyeight')\n",
    "# list of x locations for plotting\n",
    "x_values = list(range(len(importances)))\n",
    "# Make a bar chart\n",
    "plt.bar(x_values, importances, orientation = 'vertical')\n",
    "# Tick labels for x axis\n",
    "plt.xticks(x_values, feature_list, rotation='vertical')\n",
    "# Axis labels and title\n",
    "plt.ylabel('Importance'); plt.xlabel('Variable'); plt.title('Variable Importances');"
   ]
  },
  {
   "cell_type": "code",
   "execution_count": 203,
   "metadata": {},
   "outputs": [
    {
     "name": "stdout",
     "output_type": "stream",
     "text": [
      "Mean Absolute Error: 0.95 percent\n"
     ]
    }
   ],
   "source": [
    "print('Mean Absolute Error:', round(np.mean(errors), 2), 'percent')"
   ]
  },
  {
   "cell_type": "code",
   "execution_count": 61,
   "metadata": {},
   "outputs": [
    {
     "name": "stdout",
     "output_type": "stream",
     "text": [
      "Requirement already satisfied: pydot in c:\\users\\pltru\\anaconda3\\lib\\site-packages (1.4.1)\n",
      "Requirement already satisfied: pyparsing>=2.1.4 in c:\\users\\pltru\\anaconda3\\lib\\site-packages (from pydot) (2.2.0)\n"
     ]
    },
    {
     "name": "stderr",
     "output_type": "stream",
     "text": [
      "twisted 18.7.0 requires PyHamcrest>=1.9.0, which is not installed.\n",
      "You are using pip version 10.0.1, however version 19.3.1 is available.\n",
      "You should consider upgrading via the 'python -m pip install --upgrade pip' command.\n"
     ]
    }
   ],
   "source": [
    "!pip install pydot"
   ]
  },
  {
   "cell_type": "markdown",
   "metadata": {},
   "source": [
    "## User Interface"
   ]
  },
  {
   "cell_type": "code",
   "execution_count": 126,
   "metadata": {},
   "outputs": [],
   "source": [
    "def getprediction():\n",
    "\n",
    "    # Calls for an infinite loop that keeps executing\n",
    "    # until an exception occurs\n",
    "    while True:\n",
    "        campaign_id = int(input(\"What's the Campaign id? \"))\n",
    "        budget = int(input(\"What's the budget? \"))             \n",
    "        hour = int(input(\"What hour of the day? \"))\n",
    "        impressions = int(input(\"Number of Impressions Estimated or Actual? \"))\n",
    "        impressions_viewable = int(input(\"Impressions viewable? \"))\n",
    "        impressions_non_viewable = int(input(\"Impressions non-viewable? \"))\n",
    "        impressions_non_measurable = impressions - (impressions_viewable + impressions_non_viewable)\n",
    "        clicks = int(input(\"Number of Clicks Estimated or Actual? \"))\n",
    "        ctr = clicks/impressions\n",
    "        cost = int(input(\"Cost Estimated or Actual? \"))\n",
    "        cpc_avg = cost / clicks\n",
    "        avg_cost = cost / clicks\n",
    "        percentage_viewable = float(input(\"Percentage viewable (%)? \"))\n",
    "        ctr_viewable = float(input(\"CTR viewable? \"))\n",
    "        CPM_avg_viewable = float(input(\"CPM average viewable? \"))\n",
    "        non_viewable_impressions_distrib = input(\"Non-viewable impressions distribution (if known)? \")\n",
    "        list = [campaign_id, budget, hour, impressions, impressions_viewable, impressions_non_viewable, \n",
    "            impressions_non_measurable, clicks, ctr, cost, cpc_avg, avg_cost, percentage_viewable, ctr_viewable, CPM_avg_viewable,\n",
    "           CPM_avg_viewable]\n",
    "        test_features = []\n",
    "        for item in list: # comma, or other\n",
    "            test_features.append(item)\n",
    "        test_features = np.array(test_features).reshape(1,-1)\n",
    "        prediction = grid_search.predict(test_features)\n",
    "        print(\"The predicted conversion rate at\", hour, \"hour for Campaign ID\", campaign_id, \"is:\",round(prediction[0],2), \"%\")\n",
    "        break"
   ]
  },
  {
   "cell_type": "markdown",
   "metadata": {},
   "source": [
    "Key Takeaways:\n",
    "\n",
    "With the current chosen model, the predictions for conversion rates are accurate for campaigns that are ran with conversion rates. However, the model is currently not predicting well the campaigns that have 0 conversion rates. For future reference, our group conclude that there should be more data collected in daily cadence. Hour of the day is a good metric, but it is a better metric if the company can scrape daily/hour cadence data. With this, we can see the seasonal breakdown as well as trends that might exist in the data. Time-series forecasting methods can even be used for campaigns in order for the business to take an outlook about the current campaigns that are ongoing. "
   ]
  },
  {
   "cell_type": "markdown",
   "metadata": {},
   "source": [
    "MAE refers to Mean Absolute Error, which is\n",
    "$$ \\frac{1}{n} \\sum1^n |yi - \\hat{y}_i| $$\n",
    "This gives less weight to outliers, which is not sensitive to outliers.\n",
    "\n",
    "MAPE refers to Mean Absolute Percentage Error, which is\n",
    "$$\\frac{100}{n} \\sumi^n \\frac{yi - \\hat{y}i}{yi} $$\n",
    "Similar to MAE, but normalized by true observation. Downside is when true obs is zero, this metric will be problematic.\n",
    "\n",
    "MSE refers to Mean Squared Error, which is\n",
    "$$\\frac{1}{n} \\sumi^n (yi - \\hat{y}_i)^2$$\n",
    "MSE is like a combination measurement of bias and variance of your prediction, i.e., MSE = Bias^2 + Variance, which is also most popular one I guess.\n",
    "\n",
    "RMSE refers to Root MSE, usually take a root of MSE would bring the unit back to actual unit, easy to interpret your model accuracy.\n",
    "\n",
    "NRMSE refers to the normalized RMSE numbers which is easier when comparing numbers from different models"
   ]
  },
  {
   "cell_type": "code",
   "execution_count": 136,
   "metadata": {},
   "outputs": [
    {
     "name": "stdout",
     "output_type": "stream",
     "text": [
      "What's the Campaign id? 1356947003\n",
      "What's the budget? 200\n",
      "What hour of the day? 6\n",
      "Number of Impressions Estimated or Actual? 10000\n",
      "Impressions viewable? 2000\n",
      "Impressions non-viewable? 5000\n",
      "Number of Clicks Estimated or Actual? 200\n",
      "Cost Estimated or Actual? 500\n",
      "Percentage viewable (%)? 80\n",
      "CTR viewable? 2\n",
      "CPM average viewable? 1\n",
      "Non-viewable impressions distribution (if known)? 0\n",
      "The predicted conversion rate at 6 hour for Campaign ID 1356947003 is: 4.03 %\n"
     ]
    }
   ],
   "source": [
    "getprediction()"
   ]
  },
  {
   "cell_type": "code",
   "execution_count": null,
   "metadata": {},
   "outputs": [],
   "source": [
    "1356947003"
   ]
  }
 ],
 "metadata": {
  "kernelspec": {
   "display_name": "Python 3",
   "language": "python",
   "name": "python3"
  },
  "language_info": {
   "codemirror_mode": {
    "name": "ipython",
    "version": 3
   },
   "file_extension": ".py",
   "mimetype": "text/x-python",
   "name": "python",
   "nbconvert_exporter": "python",
   "pygments_lexer": "ipython3",
   "version": "3.7.0"
  }
 },
 "nbformat": 4,
 "nbformat_minor": 2
}
